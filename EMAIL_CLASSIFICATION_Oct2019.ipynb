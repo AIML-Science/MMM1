{
 "cells": [
  {
   "cell_type": "markdown",
   "metadata": {
    "colab_type": "text",
    "id": "3IZen23Ovraw"
   },
   "source": [
    "### IMPORT PYTHON MODULES FOR PREPROCESSING, MODELLING AND VISUALIZATION"
   ]
  },
  {
   "cell_type": "code",
   "execution_count": 2,
   "metadata": {
    "colab": {},
    "colab_type": "code",
    "id": "pdmf_Y_PDyld"
   },
   "outputs": [],
   "source": [
    "import pandas as pd\n",
    "import numpy as np\n",
    "from scipy.stats import randint\n",
    "import seaborn as sns # used for plot interactive graph. \n",
    "import matplotlib.pyplot as plt\n",
    "import seaborn as sns\n",
    "from io import StringIO\n",
    "from sklearn.feature_extraction.text import TfidfVectorizer\n",
    "from sklearn.feature_selection import chi2\n",
    "from IPython.display import display\n",
    "from sklearn.model_selection import train_test_split\n",
    "from sklearn.feature_extraction.text import TfidfTransformer\n",
    "from sklearn.naive_bayes import MultinomialNB\n",
    "from sklearn.linear_model import LogisticRegression as MaximumEntropy\n",
    "from sklearn.svm import LinearSVC\n",
    "from sklearn.model_selection import cross_val_score\n",
    "from sklearn.metrics import confusion_matrix, classification_report, f1_score\n",
    "from sklearn import metrics\n",
    "%matplotlib inline"
   ]
  },
  {
   "cell_type": "code",
   "execution_count": 3,
   "metadata": {
    "colab": {},
    "colab_type": "code",
    "id": "OidB1L_YEE0z"
   },
   "outputs": [],
   "source": [
    "import spacy as sp"
   ]
  },
  {
   "cell_type": "code",
   "execution_count": 4,
   "metadata": {
    "colab": {
     "base_uri": "https://localhost:8080/",
     "height": 125
    },
    "colab_type": "code",
    "id": "uE3Hn0NdELaW",
    "outputId": "df6ddc86-7b90-461f-b88a-38d6cdc622ca"
   },
   "outputs": [],
   "source": [
    "#read the csv_file into a pandas dataframe\n",
    "data = pd.read_csv(r\"DATA.csv\")"
   ]
  },
  {
   "cell_type": "code",
   "execution_count": 5,
   "metadata": {
    "colab": {
     "base_uri": "https://localhost:8080/",
     "height": 621
    },
    "colab_type": "code",
    "id": "_4IzMG29EmUU",
    "outputId": "ebf52bf3-3fb4-432d-a32d-4d7789663311"
   },
   "outputs": [
    {
     "name": "stdout",
     "output_type": "stream",
     "text": [
      "<class 'pandas.core.frame.DataFrame'>\n",
      "RangeIndex: 176749 entries, 0 to 176748\n",
      "Data columns (total 29 columns):\n",
      "SR_ID                         20082 non-null object\n",
      "ACCOUNT_NAME                  19869 non-null object\n",
      "SR_FIRST_CREATED_DATE         20082 non-null object\n",
      "ACTION_TAKEN_TEXT             20082 non-null object\n",
      "ISSUE_TYPE                    19917 non-null object\n",
      "SUB_ISSUE_TYPE                19917 non-null object\n",
      "INITIAL_EMAIL_SUBJECT_LINE    19871 non-null object\n",
      "CONTACT_EMAIL_ADDRESS         15425 non-null object\n",
      "SUPPLIED_EMAIL_ADDRESS        19893 non-null object\n",
      "EMAIL_TEXT                    20082 non-null object\n",
      "SERVICE_REGION                18836 non-null object\n",
      "SALES_OFFICE                  20057 non-null object\n",
      "EMAIL_PRIORITY                20082 non-null object\n",
      "EMAIL_CC_LIST                 4913 non-null object\n",
      "EMAIL_TO_LIST                 19873 non-null object\n",
      "STATUS                        20082 non-null object\n",
      "CUSTOMER_AGE_SEGMENT          19636 non-null object\n",
      "EMPLOYEE_COUNT                19636 non-null float64\n",
      "EMPLOYEE_COUNT_SEGMENT        19636 non-null object\n",
      "SIC_GROUP                     19636 non-null object\n",
      "SIC_CATEGORY                  19636 non-null object\n",
      "STD_PRODUCT_IND               19636 non-null float64\n",
      "LTD_PRODUCT_IND               19636 non-null float64\n",
      "LIFE_PRODUCT_IND              19636 non-null float64\n",
      "VB_PRODUCT_IND                19636 non-null float64\n",
      "IDI_PRODUCT_IND               19636 non-null float64\n",
      "DENTAL_PRODUCT_IND            19636 non-null float64\n",
      "LTC_PRODUCT_IND               20082 non-null float64\n",
      "FMLA_PRODUCT_IND              20082 non-null float64\n",
      "dtypes: float64(9), object(20)\n",
      "memory usage: 39.1+ MB\n"
     ]
    }
   ],
   "source": [
    "data.info()"
   ]
  },
  {
   "cell_type": "code",
   "execution_count": 0,
   "metadata": {
    "colab": {},
    "colab_type": "code",
    "id": "SQNZZXEDEr53"
   },
   "outputs": [],
   "source": [
    "#get non-null value\n",
    "data = data[0:20082]"
   ]
  },
  {
   "cell_type": "markdown",
   "metadata": {
    "colab_type": "text",
    "id": "WGCT5Dn1wI7d"
   },
   "source": [
    "##### GET THE IMPORTANT FEATURES FROM THE DATASET "
   ]
  },
  {
   "cell_type": "code",
   "execution_count": 0,
   "metadata": {
    "colab": {},
    "colab_type": "code",
    "id": "5_PWq5qTEw1c"
   },
   "outputs": [],
   "source": [
    "#get important features\n",
    "data_important = data[['EMAIL_TEXT','INITIAL_EMAIL_SUBJECT_LINE','ACTION_TAKEN_TEXT','ISSUE_TYPE', 'SUB_ISSUE_TYPE']]"
   ]
  },
  {
   "cell_type": "code",
   "execution_count": 8,
   "metadata": {
    "colab": {
     "base_uri": "https://localhost:8080/",
     "height": 197
    },
    "colab_type": "code",
    "id": "0Bsn_PV_GOnc",
    "outputId": "9d3a731b-d0a7-4622-e186-08114d44dab0"
   },
   "outputs": [
    {
     "data": {
      "text/html": [
       "<div>\n",
       "<style scoped>\n",
       "    .dataframe tbody tr th:only-of-type {\n",
       "        vertical-align: middle;\n",
       "    }\n",
       "\n",
       "    .dataframe tbody tr th {\n",
       "        vertical-align: top;\n",
       "    }\n",
       "\n",
       "    .dataframe thead th {\n",
       "        text-align: right;\n",
       "    }\n",
       "</style>\n",
       "<table border=\"1\" class=\"dataframe\">\n",
       "  <thead>\n",
       "    <tr style=\"text-align: right;\">\n",
       "      <th></th>\n",
       "      <th>EMAIL_TEXT</th>\n",
       "      <th>INITIAL_EMAIL_SUBJECT_LINE</th>\n",
       "      <th>ACTION_TAKEN_TEXT</th>\n",
       "      <th>ISSUE_TYPE</th>\n",
       "      <th>SUB_ISSUE_TYPE</th>\n",
       "    </tr>\n",
       "  </thead>\n",
       "  <tbody>\n",
       "    <tr>\n",
       "      <th>0</th>\n",
       "      <td>Hello,\\r\\n\\r\\nI am following up on the email I...</td>\n",
       "      <td>RE: 10 Tanker Air Carrier/Employee Heather Sva...</td>\n",
       "      <td>Resolved within Ask Unum</td>\n",
       "      <td>Ongoing Employee Maintenance</td>\n",
       "      <td>Enrollment Status</td>\n",
       "    </tr>\n",
       "    <tr>\n",
       "      <th>1</th>\n",
       "      <td>CAUTION EXTERNAL EMAIL: This email originated ...</td>\n",
       "      <td>Enrollment Request 565927 (PYCHX# 2165487)</td>\n",
       "      <td>Referred to Service Center for coding</td>\n",
       "      <td>Ongoing Employee Maintenance</td>\n",
       "      <td>Enrollment Submission</td>\n",
       "    </tr>\n",
       "    <tr>\n",
       "      <th>2</th>\n",
       "      <td>Name: FIRST_NAME Grimmette\\r\\n\\r\\nPhone:  PHON...</td>\n",
       "      <td>Ask Policy or Billing Questions</td>\n",
       "      <td>Resolved within Ask Unum</td>\n",
       "      <td>Ongoing Employee Maintenance</td>\n",
       "      <td>Coding Change or Correction</td>\n",
       "    </tr>\n",
       "    <tr>\n",
       "      <th>3</th>\n",
       "      <td>Claim Form for EE FIRST_NAME LAST_NAME  SSN \\r...</td>\n",
       "      <td>0218584 Life Insurance Claim Form</td>\n",
       "      <td>Referred to DBS (Claims)</td>\n",
       "      <td>Claims</td>\n",
       "      <td>New Claim Submission</td>\n",
       "    </tr>\n",
       "    <tr>\n",
       "      <th>4</th>\n",
       "      <td>This message originated outside of Unum. Use c...</td>\n",
       "      <td>Ike Gaming Inc dba El Cortez - Enrollment &amp; Te...</td>\n",
       "      <td>Referred to Service Center for coding</td>\n",
       "      <td>Ongoing Employee Maintenance</td>\n",
       "      <td>Employee Coding</td>\n",
       "    </tr>\n",
       "  </tbody>\n",
       "</table>\n",
       "</div>"
      ],
      "text/plain": [
       "                                          EMAIL_TEXT  ...               SUB_ISSUE_TYPE\n",
       "0  Hello,\\r\\n\\r\\nI am following up on the email I...  ...            Enrollment Status\n",
       "1  CAUTION EXTERNAL EMAIL: This email originated ...  ...        Enrollment Submission\n",
       "2  Name: FIRST_NAME Grimmette\\r\\n\\r\\nPhone:  PHON...  ...  Coding Change or Correction\n",
       "3  Claim Form for EE FIRST_NAME LAST_NAME  SSN \\r...  ...         New Claim Submission\n",
       "4  This message originated outside of Unum. Use c...  ...              Employee Coding\n",
       "\n",
       "[5 rows x 5 columns]"
      ]
     },
     "execution_count": 8,
     "metadata": {
      "tags": []
     },
     "output_type": "execute_result"
    }
   ],
   "source": [
    "#check five rows in the dataset\n",
    "data_important.head()"
   ]
  },
  {
   "cell_type": "markdown",
   "metadata": {
    "colab_type": "text",
    "id": "_HR-cOocwlFU"
   },
   "source": [
    "##### CONVERT THE FEATURES TO BE CONCANTENATED TO SRTINGS"
   ]
  },
  {
   "cell_type": "code",
   "execution_count": 9,
   "metadata": {
    "colab": {
     "base_uri": "https://localhost:8080/",
     "height": 336
    },
    "colab_type": "code",
    "id": "t1wglXeEGVdJ",
    "outputId": "03f5b75a-c817-485f-c289-c2cd1d737513"
   },
   "outputs": [
    {
     "name": "stderr",
     "output_type": "stream",
     "text": [
      "/usr/local/lib/python3.6/dist-packages/ipykernel_launcher.py:1: SettingWithCopyWarning: \n",
      "A value is trying to be set on a copy of a slice from a DataFrame.\n",
      "Try using .loc[row_indexer,col_indexer] = value instead\n",
      "\n",
      "See the caveats in the documentation: http://pandas.pydata.org/pandas-docs/stable/indexing.html#indexing-view-versus-copy\n",
      "  \"\"\"Entry point for launching an IPython kernel.\n",
      "/usr/local/lib/python3.6/dist-packages/ipykernel_launcher.py:2: SettingWithCopyWarning: \n",
      "A value is trying to be set on a copy of a slice from a DataFrame.\n",
      "Try using .loc[row_indexer,col_indexer] = value instead\n",
      "\n",
      "See the caveats in the documentation: http://pandas.pydata.org/pandas-docs/stable/indexing.html#indexing-view-versus-copy\n",
      "  \n",
      "/usr/local/lib/python3.6/dist-packages/ipykernel_launcher.py:3: SettingWithCopyWarning: \n",
      "A value is trying to be set on a copy of a slice from a DataFrame.\n",
      "Try using .loc[row_indexer,col_indexer] = value instead\n",
      "\n",
      "See the caveats in the documentation: http://pandas.pydata.org/pandas-docs/stable/indexing.html#indexing-view-versus-copy\n",
      "  This is separate from the ipykernel package so we can avoid doing imports until\n"
     ]
    }
   ],
   "source": [
    "data_important['EMAIL_TEXT'] = data_important['EMAIL_TEXT'].apply(lambda x: str(str(x).lower()))\n",
    "data_important['INITIAL_EMAIL_SUBJECT_LINE'] = data_important['INITIAL_EMAIL_SUBJECT_LINE'].apply(lambda x: str(str(x).lower()))\n",
    "data_important['ACTION_TAKEN_TEXT'] = data_important['ACTION_TAKEN_TEXT'].apply(lambda x: str(str(x).lower()))"
   ]
  },
  {
   "cell_type": "markdown",
   "metadata": {
    "colab_type": "text",
    "id": "6XnkycGPwtC-"
   },
   "source": [
    "##### CONCAT EMAIL_TEXT, ACTION_TAKEN, AND INITIAL_EMAIL_SUBJECT_LINE AS ONE"
   ]
  },
  {
   "cell_type": "code",
   "execution_count": 10,
   "metadata": {
    "colab": {
     "base_uri": "https://localhost:8080/",
     "height": 123
    },
    "colab_type": "code",
    "id": "IgYifujpezsr",
    "outputId": "474d38b5-3ab4-4677-81a0-8cf8a2ffffec"
   },
   "outputs": [
    {
     "name": "stderr",
     "output_type": "stream",
     "text": [
      "/usr/local/lib/python3.6/dist-packages/ipykernel_launcher.py:1: SettingWithCopyWarning: \n",
      "A value is trying to be set on a copy of a slice from a DataFrame.\n",
      "Try using .loc[row_indexer,col_indexer] = value instead\n",
      "\n",
      "See the caveats in the documentation: http://pandas.pydata.org/pandas-docs/stable/indexing.html#indexing-view-versus-copy\n",
      "  \"\"\"Entry point for launching an IPython kernel.\n"
     ]
    }
   ],
   "source": [
    "#columns concantenation\n",
    "data_important['merged_text'] = data_important['INITIAL_EMAIL_SUBJECT_LINE'] + '' + data_important['EMAIL_TEXT'] + '' + data_important['ACTION_TAKEN_TEXT']"
   ]
  },
  {
   "cell_type": "code",
   "execution_count": 11,
   "metadata": {
    "colab": {
     "base_uri": "https://localhost:8080/",
     "height": 281
    },
    "colab_type": "code",
    "id": "Wp7m0WoCGbxv",
    "outputId": "d368ff06-e153-4e4c-830d-4735f8c5f8a4"
   },
   "outputs": [
    {
     "data": {
      "text/html": [
       "<div>\n",
       "<style scoped>\n",
       "    .dataframe tbody tr th:only-of-type {\n",
       "        vertical-align: middle;\n",
       "    }\n",
       "\n",
       "    .dataframe tbody tr th {\n",
       "        vertical-align: top;\n",
       "    }\n",
       "\n",
       "    .dataframe thead th {\n",
       "        text-align: right;\n",
       "    }\n",
       "</style>\n",
       "<table border=\"1\" class=\"dataframe\">\n",
       "  <thead>\n",
       "    <tr style=\"text-align: right;\">\n",
       "      <th></th>\n",
       "      <th>EMAIL_TEXT</th>\n",
       "      <th>INITIAL_EMAIL_SUBJECT_LINE</th>\n",
       "      <th>ACTION_TAKEN_TEXT</th>\n",
       "      <th>ISSUE_TYPE</th>\n",
       "      <th>SUB_ISSUE_TYPE</th>\n",
       "      <th>merged_text</th>\n",
       "    </tr>\n",
       "  </thead>\n",
       "  <tbody>\n",
       "    <tr>\n",
       "      <th>0</th>\n",
       "      <td>hello,\\r\\n\\r\\ni am following up on the email i...</td>\n",
       "      <td>re: 10 tanker air carrier/employee heather sva...</td>\n",
       "      <td>resolved within ask unum</td>\n",
       "      <td>Ongoing Employee Maintenance</td>\n",
       "      <td>Enrollment Status</td>\n",
       "      <td>re: 10 tanker air carrier/employee heather sva...</td>\n",
       "    </tr>\n",
       "    <tr>\n",
       "      <th>1</th>\n",
       "      <td>caution external email: this email originated ...</td>\n",
       "      <td>enrollment request 565927 (pychx# 2165487)</td>\n",
       "      <td>referred to service center for coding</td>\n",
       "      <td>Ongoing Employee Maintenance</td>\n",
       "      <td>Enrollment Submission</td>\n",
       "      <td>enrollment request 565927 (pychx# 2165487)caut...</td>\n",
       "    </tr>\n",
       "    <tr>\n",
       "      <th>2</th>\n",
       "      <td>name: first_name grimmette\\r\\n\\r\\nphone:  phon...</td>\n",
       "      <td>ask policy or billing questions</td>\n",
       "      <td>resolved within ask unum</td>\n",
       "      <td>Ongoing Employee Maintenance</td>\n",
       "      <td>Coding Change or Correction</td>\n",
       "      <td>ask policy or billing questionsname: first_nam...</td>\n",
       "    </tr>\n",
       "    <tr>\n",
       "      <th>3</th>\n",
       "      <td>claim form for ee first_name last_name  ssn \\r...</td>\n",
       "      <td>0218584 life insurance claim form</td>\n",
       "      <td>referred to dbs (claims)</td>\n",
       "      <td>Claims</td>\n",
       "      <td>New Claim Submission</td>\n",
       "      <td>0218584 life insurance claim formclaim form fo...</td>\n",
       "    </tr>\n",
       "    <tr>\n",
       "      <th>4</th>\n",
       "      <td>this message originated outside of unum. use c...</td>\n",
       "      <td>ike gaming inc dba el cortez - enrollment &amp; te...</td>\n",
       "      <td>referred to service center for coding</td>\n",
       "      <td>Ongoing Employee Maintenance</td>\n",
       "      <td>Employee Coding</td>\n",
       "      <td>ike gaming inc dba el cortez - enrollment &amp; te...</td>\n",
       "    </tr>\n",
       "  </tbody>\n",
       "</table>\n",
       "</div>"
      ],
      "text/plain": [
       "                                          EMAIL_TEXT  ...                                        merged_text\n",
       "0  hello,\\r\\n\\r\\ni am following up on the email i...  ...  re: 10 tanker air carrier/employee heather sva...\n",
       "1  caution external email: this email originated ...  ...  enrollment request 565927 (pychx# 2165487)caut...\n",
       "2  name: first_name grimmette\\r\\n\\r\\nphone:  phon...  ...  ask policy or billing questionsname: first_nam...\n",
       "3  claim form for ee first_name last_name  ssn \\r...  ...  0218584 life insurance claim formclaim form fo...\n",
       "4  this message originated outside of unum. use c...  ...  ike gaming inc dba el cortez - enrollment & te...\n",
       "\n",
       "[5 rows x 6 columns]"
      ]
     },
     "execution_count": 11,
     "metadata": {
      "tags": []
     },
     "output_type": "execute_result"
    }
   ],
   "source": [
    "data_important.head()"
   ]
  },
  {
   "cell_type": "code",
   "execution_count": 12,
   "metadata": {
    "colab": {
     "base_uri": "https://localhost:8080/",
     "height": 212
    },
    "colab_type": "code",
    "id": "qeBmu7Y2GhCq",
    "outputId": "84167a75-e16b-4a97-da9b-0bc32a30a24a"
   },
   "outputs": [
    {
     "data": {
      "text/plain": [
       "array([['Ongoing Employee Maintenance'],\n",
       "       ['Claims'],\n",
       "       ['Website'],\n",
       "       ['Plan Inquiry'],\n",
       "       ['Forms and Copies'],\n",
       "       ['Billing'],\n",
       "       ['Plan Updates and Changes'],\n",
       "       ['Broker'],\n",
       "       ['Proactive Outreach'],\n",
       "       [nan],\n",
       "       ['Quick Call']], dtype=object)"
      ]
     },
     "execution_count": 12,
     "metadata": {
      "tags": []
     },
     "output_type": "execute_result"
    }
   ],
   "source": [
    "#check the values in ISSUE_TYPE\n",
    "pd.DataFrame(data_important.ISSUE_TYPE.unique()).values"
   ]
  },
  {
   "cell_type": "code",
   "execution_count": 13,
   "metadata": {
    "colab": {
     "base_uri": "https://localhost:8080/",
     "height": 141
    },
    "colab_type": "code",
    "id": "TuAZSx8EGqxr",
    "outputId": "a584ba68-b154-4e24-cc1a-eb4dba018ed7"
   },
   "outputs": [
    {
     "data": {
      "text/plain": [
       "EMAIL_TEXT                      0\n",
       "INITIAL_EMAIL_SUBJECT_LINE      0\n",
       "ACTION_TAKEN_TEXT               0\n",
       "ISSUE_TYPE                    165\n",
       "SUB_ISSUE_TYPE                165\n",
       "merged_text                     0\n",
       "dtype: int64"
      ]
     },
     "execution_count": 13,
     "metadata": {
      "tags": []
     },
     "output_type": "execute_result"
    }
   ],
   "source": [
    "data_important.isnull().sum()"
   ]
  },
  {
   "cell_type": "markdown",
   "metadata": {
    "colab_type": "text",
    "id": "7uzNBh_Uw5ua"
   },
   "source": [
    "### PROCESSING OF THE TARGET FEATURE BY SPLITTING THE DATA INTO 6 ISSUE_TYPE AND USING REGEX TO FORM 17 CATEGORIES OF SUB_ISSUE_TYPE, WHICH WOULD BE OUR TARGET FOR TEXT CLASSIFICATION"
   ]
  },
  {
   "cell_type": "code",
   "execution_count": 0,
   "metadata": {
    "colab": {},
    "colab_type": "code",
    "id": "DeJH7d-JGuUZ"
   },
   "outputs": [],
   "source": [
    "data_1 = data_important[data_important['ISSUE_TYPE']=='Ongoing Employee Maintenance']"
   ]
  },
  {
   "cell_type": "code",
   "execution_count": 0,
   "metadata": {
    "colab": {},
    "colab_type": "code",
    "id": "yq9rZD15KUe9"
   },
   "outputs": [],
   "source": [
    "data_2 = data_important[data_important['ISSUE_TYPE'] == 'Plan Inquiry']"
   ]
  },
  {
   "cell_type": "code",
   "execution_count": 0,
   "metadata": {
    "colab": {},
    "colab_type": "code",
    "id": "IzBlw8CVKXcs"
   },
   "outputs": [],
   "source": [
    "data_3 = data_important[data_important['ISSUE_TYPE'] == 'Forms and Copies']"
   ]
  },
  {
   "cell_type": "code",
   "execution_count": 0,
   "metadata": {
    "colab": {},
    "colab_type": "code",
    "id": "b_mIZdXDKabE"
   },
   "outputs": [],
   "source": [
    "data_4 = data_important[data_important['ISSUE_TYPE']== 'Billing']"
   ]
  },
  {
   "cell_type": "code",
   "execution_count": 0,
   "metadata": {
    "colab": {},
    "colab_type": "code",
    "id": "ShIlgKP0KdNx"
   },
   "outputs": [],
   "source": [
    "data_5 = data_important[data_important['ISSUE_TYPE'].isnull()]"
   ]
  },
  {
   "cell_type": "code",
   "execution_count": 0,
   "metadata": {
    "colab": {},
    "colab_type": "code",
    "id": "Kxny7x4lKgLw"
   },
   "outputs": [],
   "source": [
    "data_6 = data_important[(data_important['ISSUE_TYPE'] == 'Claims')|(data_important['ISSUE_TYPE'] =='Website')|(data_important['ISSUE_TYPE'] == 'Plan Updates and Changes')|(data_important['ISSUE_TYPE']=='Broker')|(data_important['ISSUE_TYPE']=='Proactive Outreach')]"
   ]
  },
  {
   "cell_type": "code",
   "execution_count": 0,
   "metadata": {
    "colab": {},
    "colab_type": "code",
    "id": "nf4WVwJsKjDd"
   },
   "outputs": [],
   "source": [
    "#A regular expression is a special sequence of characters that helps you match or find other strings or \n",
    "# sets of strings, using a specialized syntax held in a pattern. \n",
    "import re"
   ]
  },
  {
   "cell_type": "code",
   "execution_count": 0,
   "metadata": {
    "colab": {},
    "colab_type": "code",
    "id": "_MO-3K-4Knlx"
   },
   "outputs": [],
   "source": [
    "#sub_issue is a parameter that represent the sub_issue_type column\n",
    "def get_sub_issue_1(sub_issue):\n",
    "            sub_issue = str(sub_issue)\n",
    "            if re.search('invoice|inventory|report|forms|document|sheet|benefit summary|bor packet|booklet|census listing|claim form|benefit summary|experience|beneficiary', sub_issue.lower()):\n",
    "                return 'Forms and Copies - Booklet'\n",
    "            elif re.search('contract|rate|confirmation', sub_issue.lower()):\n",
    "                return 'Forms and Copies - Contract'\n",
    "            elif re.search('enrollment', sub_issue.lower()):\n",
    "                return 'Forms and Copies - Enrollment'\n",
    "            elif re.search('evidence|dental', sub_issue.lower()):\n",
    "                return 'Forms and Copies - Evidence of Insurability'\n",
    "            else:\n",
    "                return 'Forms and Copies - Schedule A'"
   ]
  },
  {
   "cell_type": "code",
   "execution_count": 22,
   "metadata": {
    "colab": {
     "base_uri": "https://localhost:8080/",
     "height": 123
    },
    "colab_type": "code",
    "id": "mMsed5DoKoh-",
    "outputId": "192e4f78-e26f-432c-a152-566f58d5b684"
   },
   "outputs": [
    {
     "name": "stderr",
     "output_type": "stream",
     "text": [
      "/usr/local/lib/python3.6/dist-packages/ipykernel_launcher.py:1: SettingWithCopyWarning: \n",
      "A value is trying to be set on a copy of a slice from a DataFrame.\n",
      "Try using .loc[row_indexer,col_indexer] = value instead\n",
      "\n",
      "See the caveats in the documentation: http://pandas.pydata.org/pandas-docs/stable/indexing.html#indexing-view-versus-copy\n",
      "  \"\"\"Entry point for launching an IPython kernel.\n"
     ]
    }
   ],
   "source": [
    "data_3['Target'] = data_3['SUB_ISSUE_TYPE'].apply(get_sub_issue_1)"
   ]
  },
  {
   "cell_type": "code",
   "execution_count": 0,
   "metadata": {
    "colab": {},
    "colab_type": "code",
    "id": "SCrfME3HKugs"
   },
   "outputs": [],
   "source": [
    "def get_sub_issue_2(sub_issue):\n",
    "            sub_issue = str(sub_issue)\n",
    "            \n",
    "            if re.search('customer', sub_issue.lower()):\n",
    "                return 'Ongoing Employee Maintenance - Coding Correction - Customer Error'\n",
    "            elif re.search('employee', sub_issue.lower()):\n",
    "                return 'Ongoing Employee Maintenance - Employee Coding' \n",
    "            elif re.search('enrollment status|open enrollment', sub_issue.lower()):\n",
    "                return 'Ongoing Employee Maintenance - Enrollment Status'\n",
    "            elif re.search('or', sub_issue.lower()):\n",
    "                 return 'Ongoing Employee Maintenance - Coding Change or Correction'\n",
    "            elif re.search('submission', sub_issue.lower()):\n",
    "                return 'Ongoing Employee Maintenance - Enrollment Submission'\n",
    "            elif re.search('eoi status|inquiry', sub_issue.lower()):\n",
    "                return 'Ongoing Employee Maintenance - EOI Status'\n",
    "            elif re.search('internal|datafeed|information|', sub_issue.lower()):\n",
    "                return 'Ongoing Employee Maintenance - Coding Correction - Internal Error'\n",
    "            else:\n",
    "                return 'Ongoing Employee Maintenance - EOI Submission'"
   ]
  },
  {
   "cell_type": "code",
   "execution_count": 24,
   "metadata": {
    "colab": {
     "base_uri": "https://localhost:8080/",
     "height": 123
    },
    "colab_type": "code",
    "id": "e93j_BVWKxz7",
    "outputId": "dae32d16-3d50-4920-fd97-0a7587f1fded"
   },
   "outputs": [
    {
     "name": "stderr",
     "output_type": "stream",
     "text": [
      "/usr/local/lib/python3.6/dist-packages/ipykernel_launcher.py:1: SettingWithCopyWarning: \n",
      "A value is trying to be set on a copy of a slice from a DataFrame.\n",
      "Try using .loc[row_indexer,col_indexer] = value instead\n",
      "\n",
      "See the caveats in the documentation: http://pandas.pydata.org/pandas-docs/stable/indexing.html#indexing-view-versus-copy\n",
      "  \"\"\"Entry point for launching an IPython kernel.\n"
     ]
    }
   ],
   "source": [
    "data_1['Target'] = data_1['SUB_ISSUE_TYPE'].apply(get_sub_issue_2)"
   ]
  },
  {
   "cell_type": "code",
   "execution_count": 0,
   "metadata": {
    "colab": {},
    "colab_type": "code",
    "id": "2cEUnt6bLhoW"
   },
   "outputs": [],
   "source": [
    "def get_sub_issue_3(sub_issue):\n",
    "            sub_issue = str(sub_issue)\n",
    "            \n",
    "            if re.search('payment status|premium|ach|charge or credit clarification|employee coding discrepancy|bill|refund|missing or skipped payment|late notice or collections',sub_issue.lower()):\n",
    "                return 'Billing - ACH Inquiry/Confirmation'\n",
    "            else:\n",
    "                return 'Billing - ACH Inquiry/Confirmation'"
   ]
  },
  {
   "cell_type": "code",
   "execution_count": 26,
   "metadata": {
    "colab": {
     "base_uri": "https://localhost:8080/",
     "height": 123
    },
    "colab_type": "code",
    "id": "Vsj1P5C-LlCR",
    "outputId": "ea67ed14-edfc-4246-b702-169fef632852"
   },
   "outputs": [
    {
     "name": "stderr",
     "output_type": "stream",
     "text": [
      "/usr/local/lib/python3.6/dist-packages/ipykernel_launcher.py:1: SettingWithCopyWarning: \n",
      "A value is trying to be set on a copy of a slice from a DataFrame.\n",
      "Try using .loc[row_indexer,col_indexer] = value instead\n",
      "\n",
      "See the caveats in the documentation: http://pandas.pydata.org/pandas-docs/stable/indexing.html#indexing-view-versus-copy\n",
      "  \"\"\"Entry point for launching an IPython kernel.\n"
     ]
    }
   ],
   "source": [
    "data_4['Target'] = data_4['SUB_ISSUE_TYPE'].apply(get_sub_issue_3)"
   ]
  },
  {
   "cell_type": "code",
   "execution_count": 0,
   "metadata": {
    "colab": {},
    "colab_type": "code",
    "id": "y0AjeD_WLoiB"
   },
   "outputs": [],
   "source": [
    "def get_sub_issue_4(sub_issue):\n",
    "        sub_issue = str(sub_issue)\n",
    "        if re.search('contract provision inquiry|renewal inquiry|portability or conversion|tax question|db120|long term care|quote|less than minimum lives|rfp|mass mailing', sub_issue.lower()):\n",
    "            return 'Plan Inquiry - Renewal Inquiry'\n",
    "        else:\n",
    "            return 'Plan Inquiry - Renewal Inquiry'\n",
    "        "
   ]
  },
  {
   "cell_type": "code",
   "execution_count": 28,
   "metadata": {
    "colab": {
     "base_uri": "https://localhost:8080/",
     "height": 123
    },
    "colab_type": "code",
    "id": "HnnpLfPVLrxA",
    "outputId": "9c99bb32-33b0-4e48-9927-c39b8b0f27dd"
   },
   "outputs": [
    {
     "name": "stderr",
     "output_type": "stream",
     "text": [
      "/usr/local/lib/python3.6/dist-packages/ipykernel_launcher.py:1: SettingWithCopyWarning: \n",
      "A value is trying to be set on a copy of a slice from a DataFrame.\n",
      "Try using .loc[row_indexer,col_indexer] = value instead\n",
      "\n",
      "See the caveats in the documentation: http://pandas.pydata.org/pandas-docs/stable/indexing.html#indexing-view-versus-copy\n",
      "  \"\"\"Entry point for launching an IPython kernel.\n"
     ]
    }
   ],
   "source": [
    "data_2['Target'] = data_2['SUB_ISSUE_TYPE'].apply(get_sub_issue_4)"
   ]
  },
  {
   "cell_type": "code",
   "execution_count": 0,
   "metadata": {
    "colab": {},
    "colab_type": "code",
    "id": "-wioaAFiLvJr"
   },
   "outputs": [],
   "source": [
    "def get_sub_issue_5(sub_issue):\n",
    "    sub_issue = str(sub_issue)\n",
    "    if re.search(' ', sub_issue.lower()):\n",
    "        return 'Withdrawn'\n",
    "    else:\n",
    "        return 'Withdrawn'"
   ]
  },
  {
   "cell_type": "code",
   "execution_count": 30,
   "metadata": {
    "colab": {
     "base_uri": "https://localhost:8080/",
     "height": 123
    },
    "colab_type": "code",
    "id": "JD0J8dXpLyU5",
    "outputId": "d60e362f-5519-4f82-a4c6-a7f50864f5b5"
   },
   "outputs": [
    {
     "name": "stderr",
     "output_type": "stream",
     "text": [
      "/usr/local/lib/python3.6/dist-packages/ipykernel_launcher.py:1: SettingWithCopyWarning: \n",
      "A value is trying to be set on a copy of a slice from a DataFrame.\n",
      "Try using .loc[row_indexer,col_indexer] = value instead\n",
      "\n",
      "See the caveats in the documentation: http://pandas.pydata.org/pandas-docs/stable/indexing.html#indexing-view-versus-copy\n",
      "  \"\"\"Entry point for launching an IPython kernel.\n"
     ]
    }
   ],
   "source": [
    "data_5['Target'] = data_5['SUB_ISSUE_TYPE'].apply(get_sub_issue_5)"
   ]
  },
  {
   "cell_type": "code",
   "execution_count": 31,
   "metadata": {
    "colab": {
     "base_uri": "https://localhost:8080/",
     "height": 123
    },
    "colab_type": "code",
    "id": "lfa0HPxrL1-z",
    "outputId": "1f553223-bcf1-4922-eed7-27e00dee6176"
   },
   "outputs": [
    {
     "name": "stderr",
     "output_type": "stream",
     "text": [
      "/usr/local/lib/python3.6/dist-packages/ipykernel_launcher.py:1: SettingWithCopyWarning: \n",
      "A value is trying to be set on a copy of a slice from a DataFrame.\n",
      "Try using .loc[row_indexer,col_indexer] = value instead\n",
      "\n",
      "See the caveats in the documentation: http://pandas.pydata.org/pandas-docs/stable/indexing.html#indexing-view-versus-copy\n",
      "  \"\"\"Entry point for launching an IPython kernel.\n"
     ]
    }
   ],
   "source": [
    "data_6['Target'] = data_6['SUB_ISSUE_TYPE'].apply(lambda x: 'Others')"
   ]
  },
  {
   "cell_type": "markdown",
   "metadata": {
    "colab_type": "text",
    "id": "CCPd_btcxUrp"
   },
   "source": [
    "#### CONCAT ALL 6 DATASETS INTO ONE DATAFRAME NAMED data_processed"
   ]
  },
  {
   "cell_type": "code",
   "execution_count": 0,
   "metadata": {
    "colab": {},
    "colab_type": "code",
    "id": "e-F7c_3WL5sS"
   },
   "outputs": [],
   "source": [
    "#combine the 6 dataframes created for each of the issue-type\n",
    "data_processed = pd.concat([data_1, data_2, data_3, data_4, data_5, data_6])"
   ]
  },
  {
   "cell_type": "code",
   "execution_count": 33,
   "metadata": {
    "colab": {
     "base_uri": "https://localhost:8080/",
     "height": 318
    },
    "colab_type": "code",
    "id": "0INXDAj_L87C",
    "outputId": "231b0b76-f5a6-4acd-d94c-1ba594a058db"
   },
   "outputs": [
    {
     "data": {
      "text/plain": [
       "Others                                                               4526\n",
       "Ongoing Employee Maintenance - Employee Coding                       3592\n",
       "Ongoing Employee Maintenance - Enrollment Submission                 3241\n",
       "Forms and Copies - Booklet                                           1811\n",
       "Plan Inquiry - Renewal Inquiry                                       1751\n",
       "Ongoing Employee Maintenance - Enrollment Status                     1371\n",
       "Billing - ACH Inquiry/Confirmation                                   1294\n",
       "Forms and Copies - Contract                                           563\n",
       "Ongoing Employee Maintenance - Coding Change or Correction            543\n",
       "Ongoing Employee Maintenance - EOI Status                             428\n",
       "Forms and Copies - Enrollment                                         227\n",
       "Ongoing Employee Maintenance - Coding Correction - Customer Error     209\n",
       "Forms and Copies - Schedule A                                         179\n",
       "Withdrawn                                                             165\n",
       "Forms and Copies - Evidence of Insurability                           103\n",
       "Ongoing Employee Maintenance - Coding Correction - Internal Error      76\n",
       "Name: Target, dtype: int64"
      ]
     },
     "execution_count": 33,
     "metadata": {
      "tags": []
     },
     "output_type": "execute_result"
    }
   ],
   "source": [
    "data_processed['Target'].value_counts()"
   ]
  },
  {
   "cell_type": "code",
   "execution_count": 34,
   "metadata": {
    "colab": {
     "base_uri": "https://localhost:8080/",
     "height": 230
    },
    "colab_type": "code",
    "id": "d8W6vB_rMAHe",
    "outputId": "01215271-5faa-4b71-b7ec-0211b4141cb4"
   },
   "outputs": [
    {
     "name": "stdout",
     "output_type": "stream",
     "text": [
      "<class 'pandas.core.frame.DataFrame'>\n",
      "Int64Index: 20079 entries, 0 to 20074\n",
      "Data columns (total 7 columns):\n",
      "EMAIL_TEXT                    20079 non-null object\n",
      "INITIAL_EMAIL_SUBJECT_LINE    20079 non-null object\n",
      "ACTION_TAKEN_TEXT             20079 non-null object\n",
      "ISSUE_TYPE                    19914 non-null object\n",
      "SUB_ISSUE_TYPE                19914 non-null object\n",
      "merged_text                   20079 non-null object\n",
      "Target                        20079 non-null object\n",
      "dtypes: object(7)\n",
      "memory usage: 1.2+ MB\n"
     ]
    }
   ],
   "source": [
    "data_processed.info()"
   ]
  },
  {
   "cell_type": "code",
   "execution_count": 35,
   "metadata": {
    "colab": {
     "base_uri": "https://localhost:8080/",
     "height": 364
    },
    "colab_type": "code",
    "id": "rxRxA7GsMGhf",
    "outputId": "0c85fdea-62b8-4262-c1a6-88dc100d9606"
   },
   "outputs": [
    {
     "data": {
      "text/html": [
       "<div>\n",
       "<style scoped>\n",
       "    .dataframe tbody tr th:only-of-type {\n",
       "        vertical-align: middle;\n",
       "    }\n",
       "\n",
       "    .dataframe tbody tr th {\n",
       "        vertical-align: top;\n",
       "    }\n",
       "\n",
       "    .dataframe thead th {\n",
       "        text-align: right;\n",
       "    }\n",
       "</style>\n",
       "<table border=\"1\" class=\"dataframe\">\n",
       "  <thead>\n",
       "    <tr style=\"text-align: right;\">\n",
       "      <th></th>\n",
       "      <th>EMAIL_TEXT</th>\n",
       "      <th>INITIAL_EMAIL_SUBJECT_LINE</th>\n",
       "      <th>ACTION_TAKEN_TEXT</th>\n",
       "      <th>ISSUE_TYPE</th>\n",
       "      <th>SUB_ISSUE_TYPE</th>\n",
       "      <th>merged_text</th>\n",
       "      <th>Target</th>\n",
       "      <th>category_id</th>\n",
       "    </tr>\n",
       "  </thead>\n",
       "  <tbody>\n",
       "    <tr>\n",
       "      <th>0</th>\n",
       "      <td>hello,\\r\\n\\r\\ni am following up on the email i...</td>\n",
       "      <td>re: 10 tanker air carrier/employee heather sva...</td>\n",
       "      <td>resolved within ask unum</td>\n",
       "      <td>Ongoing Employee Maintenance</td>\n",
       "      <td>Enrollment Status</td>\n",
       "      <td>re: 10 tanker air carrier/employee heather sva...</td>\n",
       "      <td>Ongoing Employee Maintenance - Enrollment Status</td>\n",
       "      <td>0</td>\n",
       "    </tr>\n",
       "    <tr>\n",
       "      <th>1</th>\n",
       "      <td>caution external email: this email originated ...</td>\n",
       "      <td>enrollment request 565927 (pychx# 2165487)</td>\n",
       "      <td>referred to service center for coding</td>\n",
       "      <td>Ongoing Employee Maintenance</td>\n",
       "      <td>Enrollment Submission</td>\n",
       "      <td>enrollment request 565927 (pychx# 2165487)caut...</td>\n",
       "      <td>Ongoing Employee Maintenance - Enrollment Subm...</td>\n",
       "      <td>1</td>\n",
       "    </tr>\n",
       "    <tr>\n",
       "      <th>2</th>\n",
       "      <td>name: first_name grimmette\\r\\n\\r\\nphone:  phon...</td>\n",
       "      <td>ask policy or billing questions</td>\n",
       "      <td>resolved within ask unum</td>\n",
       "      <td>Ongoing Employee Maintenance</td>\n",
       "      <td>Coding Change or Correction</td>\n",
       "      <td>ask policy or billing questionsname: first_nam...</td>\n",
       "      <td>Ongoing Employee Maintenance - Coding Change o...</td>\n",
       "      <td>2</td>\n",
       "    </tr>\n",
       "    <tr>\n",
       "      <th>4</th>\n",
       "      <td>this message originated outside of unum. use c...</td>\n",
       "      <td>ike gaming inc dba el cortez - enrollment &amp; te...</td>\n",
       "      <td>referred to service center for coding</td>\n",
       "      <td>Ongoing Employee Maintenance</td>\n",
       "      <td>Employee Coding</td>\n",
       "      <td>ike gaming inc dba el cortez - enrollment &amp; te...</td>\n",
       "      <td>Ongoing Employee Maintenance - Employee Coding</td>\n",
       "      <td>3</td>\n",
       "    </tr>\n",
       "    <tr>\n",
       "      <th>10</th>\n",
       "      <td>caution external email: this email originated ...</td>\n",
       "      <td>re: fwd: #secure urgent escalated client- open...</td>\n",
       "      <td>resolved within ask unum</td>\n",
       "      <td>Ongoing Employee Maintenance</td>\n",
       "      <td>Employee Coding</td>\n",
       "      <td>re: fwd: #secure urgent escalated client- open...</td>\n",
       "      <td>Ongoing Employee Maintenance - Employee Coding</td>\n",
       "      <td>3</td>\n",
       "    </tr>\n",
       "  </tbody>\n",
       "</table>\n",
       "</div>"
      ],
      "text/plain": [
       "                                           EMAIL_TEXT  ... category_id\n",
       "0   hello,\\r\\n\\r\\ni am following up on the email i...  ...           0\n",
       "1   caution external email: this email originated ...  ...           1\n",
       "2   name: first_name grimmette\\r\\n\\r\\nphone:  phon...  ...           2\n",
       "4   this message originated outside of unum. use c...  ...           3\n",
       "10  caution external email: this email originated ...  ...           3\n",
       "\n",
       "[5 rows x 8 columns]"
      ]
     },
     "execution_count": 35,
     "metadata": {
      "tags": []
     },
     "output_type": "execute_result"
    }
   ],
   "source": [
    "# Create a new column 'category_id' with encoded categories \n",
    "data_processed['category_id'] = data_processed['Target'].factorize()[0]\n",
    "category_id_df = data_processed[['Target', 'category_id']].drop_duplicates()\n",
    "\n",
    "\n",
    "# Dictionaries for future use\n",
    "category_to_id = dict(category_id_df.values)\n",
    "id_to_category = dict(category_id_df[['category_id', 'Target']].values)\n",
    "\n",
    "# New dataframe\n",
    "data_processed.head()"
   ]
  },
  {
   "cell_type": "code",
   "execution_count": 36,
   "metadata": {
    "colab": {
     "base_uri": "https://localhost:8080/",
     "height": 527
    },
    "colab_type": "code",
    "id": "EXYtIeUdMKcq",
    "outputId": "cd47053f-8746-459b-b716-ca3bba45e1d5"
   },
   "outputs": [
    {
     "data": {
      "text/html": [
       "<div>\n",
       "<style scoped>\n",
       "    .dataframe tbody tr th:only-of-type {\n",
       "        vertical-align: middle;\n",
       "    }\n",
       "\n",
       "    .dataframe tbody tr th {\n",
       "        vertical-align: top;\n",
       "    }\n",
       "\n",
       "    .dataframe thead th {\n",
       "        text-align: right;\n",
       "    }\n",
       "</style>\n",
       "<table border=\"1\" class=\"dataframe\">\n",
       "  <thead>\n",
       "    <tr style=\"text-align: right;\">\n",
       "      <th></th>\n",
       "      <th>Target</th>\n",
       "      <th>category_id</th>\n",
       "    </tr>\n",
       "  </thead>\n",
       "  <tbody>\n",
       "    <tr>\n",
       "      <th>0</th>\n",
       "      <td>Ongoing Employee Maintenance - Enrollment Status</td>\n",
       "      <td>0</td>\n",
       "    </tr>\n",
       "    <tr>\n",
       "      <th>1</th>\n",
       "      <td>Ongoing Employee Maintenance - Enrollment Subm...</td>\n",
       "      <td>1</td>\n",
       "    </tr>\n",
       "    <tr>\n",
       "      <th>2</th>\n",
       "      <td>Ongoing Employee Maintenance - Coding Change o...</td>\n",
       "      <td>2</td>\n",
       "    </tr>\n",
       "    <tr>\n",
       "      <th>4</th>\n",
       "      <td>Ongoing Employee Maintenance - Employee Coding</td>\n",
       "      <td>3</td>\n",
       "    </tr>\n",
       "    <tr>\n",
       "      <th>77</th>\n",
       "      <td>Ongoing Employee Maintenance - Coding Correcti...</td>\n",
       "      <td>4</td>\n",
       "    </tr>\n",
       "    <tr>\n",
       "      <th>82</th>\n",
       "      <td>Ongoing Employee Maintenance - EOI Status</td>\n",
       "      <td>5</td>\n",
       "    </tr>\n",
       "    <tr>\n",
       "      <th>626</th>\n",
       "      <td>Ongoing Employee Maintenance - Coding Correcti...</td>\n",
       "      <td>6</td>\n",
       "    </tr>\n",
       "    <tr>\n",
       "      <th>7</th>\n",
       "      <td>Plan Inquiry - Renewal Inquiry</td>\n",
       "      <td>7</td>\n",
       "    </tr>\n",
       "    <tr>\n",
       "      <th>8</th>\n",
       "      <td>Forms and Copies - Booklet</td>\n",
       "      <td>8</td>\n",
       "    </tr>\n",
       "    <tr>\n",
       "      <th>43</th>\n",
       "      <td>Forms and Copies - Contract</td>\n",
       "      <td>9</td>\n",
       "    </tr>\n",
       "    <tr>\n",
       "      <th>66</th>\n",
       "      <td>Forms and Copies - Enrollment</td>\n",
       "      <td>10</td>\n",
       "    </tr>\n",
       "    <tr>\n",
       "      <th>100</th>\n",
       "      <td>Forms and Copies - Evidence of Insurability</td>\n",
       "      <td>11</td>\n",
       "    </tr>\n",
       "    <tr>\n",
       "      <th>262</th>\n",
       "      <td>Forms and Copies - Schedule A</td>\n",
       "      <td>12</td>\n",
       "    </tr>\n",
       "    <tr>\n",
       "      <th>12</th>\n",
       "      <td>Billing - ACH Inquiry/Confirmation</td>\n",
       "      <td>13</td>\n",
       "    </tr>\n",
       "    <tr>\n",
       "      <th>1642</th>\n",
       "      <td>Withdrawn</td>\n",
       "      <td>14</td>\n",
       "    </tr>\n",
       "    <tr>\n",
       "      <th>3</th>\n",
       "      <td>Others</td>\n",
       "      <td>15</td>\n",
       "    </tr>\n",
       "  </tbody>\n",
       "</table>\n",
       "</div>"
      ],
      "text/plain": [
       "                                                 Target  category_id\n",
       "0      Ongoing Employee Maintenance - Enrollment Status            0\n",
       "1     Ongoing Employee Maintenance - Enrollment Subm...            1\n",
       "2     Ongoing Employee Maintenance - Coding Change o...            2\n",
       "4        Ongoing Employee Maintenance - Employee Coding            3\n",
       "77    Ongoing Employee Maintenance - Coding Correcti...            4\n",
       "82            Ongoing Employee Maintenance - EOI Status            5\n",
       "626   Ongoing Employee Maintenance - Coding Correcti...            6\n",
       "7                        Plan Inquiry - Renewal Inquiry            7\n",
       "8                            Forms and Copies - Booklet            8\n",
       "43                          Forms and Copies - Contract            9\n",
       "66                        Forms and Copies - Enrollment           10\n",
       "100         Forms and Copies - Evidence of Insurability           11\n",
       "262                       Forms and Copies - Schedule A           12\n",
       "12                   Billing - ACH Inquiry/Confirmation           13\n",
       "1642                                          Withdrawn           14\n",
       "3                                                Others           15"
      ]
     },
     "execution_count": 36,
     "metadata": {
      "tags": []
     },
     "output_type": "execute_result"
    }
   ],
   "source": [
    "#the different catergories and their id \n",
    "category_id_df"
   ]
  },
  {
   "cell_type": "markdown",
   "metadata": {
    "colab_type": "text",
    "id": "wd3prTwUx2cb"
   },
   "source": [
    "###### CHECK THE FREQUENCY OF THE DIFFERENT SUB_ISSUE_TYPE THAT WAS CREATED\""
   ]
  },
  {
   "cell_type": "code",
   "execution_count": 37,
   "metadata": {
    "colab": {
     "base_uri": "https://localhost:8080/",
     "height": 436
    },
    "colab_type": "code",
    "id": "MO9bKKAJMN--",
    "outputId": "b2ce64f1-d9b4-4cd8-9b32-5b2cf35359a6"
   },
   "outputs": [
    {
     "data": {
      "text/plain": [
       "Text(0.5, 0, 'Number of ocurrences')"
      ]
     },
     "execution_count": 37,
     "metadata": {
      "tags": []
     },
     "output_type": "execute_result"
    },
    {
     "data": {
      "image/png": "[encoded data removed]",
      "text/plain": [
       "<Figure size 576x432 with 1 Axes>"
      ]
     },
     "metadata": {
      "tags": []
     },
     "output_type": "display_data"
    }
   ],
   "source": [
    "fig = plt.figure(figsize=(8,6))\n",
    "colors = ['grey','grey','grey','grey','grey','grey','grey','grey','grey',\n",
    "    'grey','darkblue','darkblue','darkblue']\n",
    "data_processed.groupby('Target').merged_text.count().sort_values().plot.barh(\n",
    "    ylim=0, color=colors, title= 'NUMBER OF MAILS IN EACH CATEGORY\\n')\n",
    "plt.xlabel('Number of ocurrences', fontsize = 10)"
   ]
  },
  {
   "cell_type": "markdown",
   "metadata": {
    "colab_type": "text",
    "id": "evx1yAT1x6GO"
   },
   "source": [
    "### DATA PREPROCESSING OF THE merged_text"
   ]
  },
  {
   "cell_type": "code",
   "execution_count": 38,
   "metadata": {
    "colab": {
     "base_uri": "https://localhost:8080/",
     "height": 123
    },
    "colab_type": "code",
    "id": "N-GZClaYMSBJ",
    "outputId": "b58407d8-f9f8-4369-cdf5-fd94dd25fb77"
   },
   "outputs": [
    {
     "data": {
      "text/plain": [
       "0     hello, i am following up on the email i sent j...\n",
       "1     caution external email: this email originated ...\n",
       "2     name: first_name grimmette phone: phone_number...\n",
       "4     this message originated outside of unum. use c...\n",
       "10    caution external email: this email originated ...\n",
       "Name: merged_text, dtype: object"
      ]
     },
     "execution_count": 38,
     "metadata": {
      "tags": []
     },
     "output_type": "execute_result"
    }
   ],
   "source": [
    "#convert all alphabets to small letters\n",
    "data_processed['merged_text'] = data_processed['EMAIL_TEXT'].apply(lambda x: \" \".join(str(x).lower() for x in str(x).split()))\n",
    "data_processed['merged_text'].head()"
   ]
  },
  {
   "cell_type": "code",
   "execution_count": 39,
   "metadata": {
    "colab": {
     "base_uri": "https://localhost:8080/",
     "height": 390
    },
    "colab_type": "code",
    "id": "LQX9rIgZMYSy",
    "outputId": "71f784ae-7d1e-431a-8466-8cb9c7b001ef"
   },
   "outputs": [
    {
     "data": {
      "text/plain": [
       "0     hello i am following up on the email i sent ju...\n",
       "1     caution external email this email originated f...\n",
       "2     name first_name grimmette phone phone_number r...\n",
       "4     this message originated outside of unum use ca...\n",
       "10    caution external email this email originated f...\n",
       "14    this message originated outside of unum use ca...\n",
       "16    first_name first_name ssn ssn friday ezerendu ...\n",
       "17    caution external email this email originated f...\n",
       "18    brandon loper ssn hi team can you please proce...\n",
       "19    this message originated outside of unum use ca...\n",
       "21    good afternoon please have the attached enroll...\n",
       "23    this message originated outside of unum use ca...\n",
       "28    ________________________________ from unum evi...\n",
       "34    hello please see highlighted below for the las...\n",
       "35    caution external email this email originated f...\n",
       "36    this message originated outside of unum use ca...\n",
       "37    re 952779 hi ask unum please process the attac...\n",
       "38    this message originated outside of unum use ca...\n",
       "39    the following are 2 terminations for jennison ...\n",
       "41    this message originated outside of unum use ca...\n",
       "Name: merged_text, dtype: object"
      ]
     },
     "execution_count": 39,
     "metadata": {
      "tags": []
     },
     "output_type": "execute_result"
    }
   ],
   "source": [
    "#replaced all characters with space\n",
    "data_processed['merged_text'] = data_processed['merged_text'].str.replace('[^\\w\\s]','')\n",
    "data_processed['merged_text'].head(20)"
   ]
  },
  {
   "cell_type": "code",
   "execution_count": 40,
   "metadata": {
    "colab": {
     "base_uri": "https://localhost:8080/",
     "height": 54
    },
    "colab_type": "code",
    "id": "2_cQJvtqMcEn",
    "outputId": "1d62b419-1e73-4f58-d10d-926a7c80155f"
   },
   "outputs": [
    {
     "data": {
      "text/plain": [
       "'name first_name grimmette phone phone_number response requested by email policy and division  phone_number 001 company name the kaufmann clinic comment employee ronson last_name dob 022789 ssn ssn was effective 051518 he received his dental cards in the mail but his name is spelled incorrectly his name is ronson not last_name can you please correct this and reissue him new cards thank you'"
      ]
     },
     "execution_count": 40,
     "metadata": {
      "tags": []
     },
     "output_type": "execute_result"
    }
   ],
   "source": [
    "#To check if the characters that were removed was truly removed.\n",
    "data_processed['merged_text'][2]"
   ]
  },
  {
   "cell_type": "code",
   "execution_count": 0,
   "metadata": {
    "colab": {},
    "colab_type": "code",
    "id": "grCq67j-Mkev"
   },
   "outputs": [],
   "source": [
    "#import stop words from sklearn\n",
    "from sklearn.feature_extraction import stop_words\n",
    " \n",
    "stop = stop_words.ENGLISH_STOP_WORDS"
   ]
  },
  {
   "cell_type": "code",
   "execution_count": 42,
   "metadata": {
    "colab": {
     "base_uri": "https://localhost:8080/",
     "height": 123
    },
    "colab_type": "code",
    "id": "bjpzJqGkMvdJ",
    "outputId": "4c55b27a-84a8-45f2-f43f-599f91133b7e"
   },
   "outputs": [
    {
     "data": {
      "text/plain": [
       "0     hello following email sent june 28th advise fi...\n",
       "1     caution external email email originated outsid...\n",
       "2     first_name grimmette phone phone_number respon...\n",
       "4     message originated outside unum use caution op...\n",
       "10    caution external email email originated outsid...\n",
       "Name: merged_text, dtype: object"
      ]
     },
     "execution_count": 42,
     "metadata": {
      "tags": []
     },
     "output_type": "execute_result"
    }
   ],
   "source": [
    "#remove stop words, as they are not informative enough for prediction\n",
    "data_processed['merged_text'] = data_processed['merged_text'].apply(lambda x: \" \".join(x for x in x.split() if x not in stop))\n",
    "data_processed['merged_text'].head()"
   ]
  },
  {
   "cell_type": "code",
   "execution_count": 5,
   "metadata": {},
   "outputs": [
    {
     "name": "stdout",
     "output_type": "stream",
     "text": [
      "Requirement already satisfied: spacy in /home/esa/anaconda3/lib/python3.6/site-packages (2.2.1)\n",
      "Requirement already satisfied: wasabi<1.1.0,>=0.2.0 in /home/esa/anaconda3/lib/python3.6/site-packages (from spacy) (0.2.2)\n",
      "Requirement already satisfied: preshed<3.1.0,>=3.0.2 in /home/esa/anaconda3/lib/python3.6/site-packages (from spacy) (3.0.2)\n",
      "Requirement already satisfied: cymem<2.1.0,>=2.0.2 in /home/esa/anaconda3/lib/python3.6/site-packages (from spacy) (2.0.2)\n",
      "Requirement already satisfied: blis<0.5.0,>=0.4.0 in /home/esa/anaconda3/lib/python3.6/site-packages (from spacy) (0.4.1)\n",
      "Requirement already satisfied: requests<3.0.0,>=2.13.0 in /home/esa/anaconda3/lib/python3.6/site-packages (from spacy) (2.22.0)\n",
      "Requirement already satisfied: numpy>=1.15.0 in /home/esa/anaconda3/lib/python3.6/site-packages (from spacy) (1.17.2)\n",
      "Requirement already satisfied: plac<1.0.0,>=0.9.6 in /home/esa/anaconda3/lib/python3.6/site-packages (from spacy) (0.9.6)\n",
      "Requirement already satisfied: murmurhash<1.1.0,>=0.28.0 in /home/esa/anaconda3/lib/python3.6/site-packages (from spacy) (1.0.2)\n",
      "Requirement already satisfied: thinc<7.2.0,>=7.1.1 in /home/esa/anaconda3/lib/python3.6/site-packages (from spacy) (7.1.1)\n",
      "Requirement already satisfied: srsly<1.1.0,>=0.1.0 in /home/esa/anaconda3/lib/python3.6/site-packages (from spacy) (0.1.0)\n",
      "Requirement already satisfied: urllib3!=1.25.0,!=1.25.1,<1.26,>=1.21.1 in /home/esa/anaconda3/lib/python3.6/site-packages (from requests<3.0.0,>=2.13.0->spacy) (1.24.2)\n",
      "Requirement already satisfied: idna<2.9,>=2.5 in /home/esa/anaconda3/lib/python3.6/site-packages (from requests<3.0.0,>=2.13.0->spacy) (2.8)\n",
      "Requirement already satisfied: certifi>=2017.4.17 in /home/esa/anaconda3/lib/python3.6/site-packages (from requests<3.0.0,>=2.13.0->spacy) (2019.9.11)\n",
      "Requirement already satisfied: chardet<3.1.0,>=3.0.2 in /home/esa/anaconda3/lib/python3.6/site-packages (from requests<3.0.0,>=2.13.0->spacy) (3.0.4)\n",
      "Requirement already satisfied: tqdm<5.0.0,>=4.10.0 in /home/esa/anaconda3/lib/python3.6/site-packages (from thinc<7.2.0,>=7.1.1->spacy) (4.36.1)\n"
     ]
    }
   ],
   "source": [
    "!pip install spacy"
   ]
  },
  {
   "cell_type": "code",
   "execution_count": 7,
   "metadata": {},
   "outputs": [
    {
     "name": "stdout",
     "output_type": "stream",
     "text": [
      "Requirement already satisfied: en_core_web_sm==2.2.0 from https://github.com/explosion/spacy-models/releases/download/en_core_web_sm-2.2.0/en_core_web_sm-2.2.0.tar.gz#egg=en_core_web_sm==2.2.0 in /home/esa/anaconda3/lib/python3.6/site-packages (2.2.0)\n",
      "Requirement already satisfied: spacy>=2.2.0 in /home/esa/anaconda3/lib/python3.6/site-packages (from en_core_web_sm==2.2.0) (2.2.1)\n",
      "Requirement already satisfied: thinc<7.2.0,>=7.1.1 in /home/esa/anaconda3/lib/python3.6/site-packages (from spacy>=2.2.0->en_core_web_sm==2.2.0) (7.1.1)\n",
      "Requirement already satisfied: srsly<1.1.0,>=0.1.0 in /home/esa/anaconda3/lib/python3.6/site-packages (from spacy>=2.2.0->en_core_web_sm==2.2.0) (0.1.0)\n",
      "Requirement already satisfied: requests<3.0.0,>=2.13.0 in /home/esa/anaconda3/lib/python3.6/site-packages (from spacy>=2.2.0->en_core_web_sm==2.2.0) (2.22.0)\n",
      "Requirement already satisfied: cymem<2.1.0,>=2.0.2 in /home/esa/anaconda3/lib/python3.6/site-packages (from spacy>=2.2.0->en_core_web_sm==2.2.0) (2.0.2)\n",
      "Requirement already satisfied: murmurhash<1.1.0,>=0.28.0 in /home/esa/anaconda3/lib/python3.6/site-packages (from spacy>=2.2.0->en_core_web_sm==2.2.0) (1.0.2)\n",
      "Requirement already satisfied: blis<0.5.0,>=0.4.0 in /home/esa/anaconda3/lib/python3.6/site-packages (from spacy>=2.2.0->en_core_web_sm==2.2.0) (0.4.1)\n",
      "Requirement already satisfied: numpy>=1.15.0 in /home/esa/anaconda3/lib/python3.6/site-packages (from spacy>=2.2.0->en_core_web_sm==2.2.0) (1.17.2)\n",
      "Requirement already satisfied: preshed<3.1.0,>=3.0.2 in /home/esa/anaconda3/lib/python3.6/site-packages (from spacy>=2.2.0->en_core_web_sm==2.2.0) (3.0.2)\n",
      "Requirement already satisfied: wasabi<1.1.0,>=0.2.0 in /home/esa/anaconda3/lib/python3.6/site-packages (from spacy>=2.2.0->en_core_web_sm==2.2.0) (0.2.2)\n",
      "Requirement already satisfied: plac<1.0.0,>=0.9.6 in /home/esa/anaconda3/lib/python3.6/site-packages (from spacy>=2.2.0->en_core_web_sm==2.2.0) (0.9.6)\n",
      "Requirement already satisfied: tqdm<5.0.0,>=4.10.0 in /home/esa/anaconda3/lib/python3.6/site-packages (from thinc<7.2.0,>=7.1.1->spacy>=2.2.0->en_core_web_sm==2.2.0) (4.36.1)\n",
      "Requirement already satisfied: chardet<3.1.0,>=3.0.2 in /home/esa/anaconda3/lib/python3.6/site-packages (from requests<3.0.0,>=2.13.0->spacy>=2.2.0->en_core_web_sm==2.2.0) (3.0.4)\n",
      "Requirement already satisfied: urllib3!=1.25.0,!=1.25.1,<1.26,>=1.21.1 in /home/esa/anaconda3/lib/python3.6/site-packages (from requests<3.0.0,>=2.13.0->spacy>=2.2.0->en_core_web_sm==2.2.0) (1.24.2)\n",
      "Requirement already satisfied: certifi>=2017.4.17 in /home/esa/anaconda3/lib/python3.6/site-packages (from requests<3.0.0,>=2.13.0->spacy>=2.2.0->en_core_web_sm==2.2.0) (2019.9.11)\n",
      "Requirement already satisfied: idna<2.9,>=2.5 in /home/esa/anaconda3/lib/python3.6/site-packages (from requests<3.0.0,>=2.13.0->spacy>=2.2.0->en_core_web_sm==2.2.0) (2.8)\n",
      "\u001b[38;5;2m✔ Download and installation successful\u001b[0m\n",
      "You can now load the model via spacy.load('en_core_web_sm')\n",
      "\u001b[38;5;2m✔ Linking successful\u001b[0m\n",
      "/home/esa/anaconda3/lib/python3.6/site-packages/en_core_web_sm -->\n",
      "/home/esa/anaconda3/lib/python3.6/site-packages/spacy/data/en\n",
      "You can now load the model via spacy.load('en')\n"
     ]
    }
   ],
   "source": [
    "!python -m spacy download en\n",
    "#!conda install -c conda-forge spacy"
   ]
  },
  {
   "cell_type": "code",
   "execution_count": 8,
   "metadata": {},
   "outputs": [
    {
     "name": "stdout",
     "output_type": "stream",
     "text": [
      "Requirement already satisfied: en_core_web_sm==2.2.0 from https://github.com/explosion/spacy-models/releases/download/en_core_web_sm-2.2.0/en_core_web_sm-2.2.0.tar.gz#egg=en_core_web_sm==2.2.0 in /home/esa/anaconda3/lib/python3.6/site-packages (2.2.0)\n",
      "Requirement already satisfied: spacy>=2.2.0 in /home/esa/anaconda3/lib/python3.6/site-packages (from en_core_web_sm==2.2.0) (2.2.1)\n",
      "Requirement already satisfied: preshed<3.1.0,>=3.0.2 in /home/esa/anaconda3/lib/python3.6/site-packages (from spacy>=2.2.0->en_core_web_sm==2.2.0) (3.0.2)\n",
      "Requirement already satisfied: plac<1.0.0,>=0.9.6 in /home/esa/anaconda3/lib/python3.6/site-packages (from spacy>=2.2.0->en_core_web_sm==2.2.0) (0.9.6)\n",
      "Requirement already satisfied: srsly<1.1.0,>=0.1.0 in /home/esa/anaconda3/lib/python3.6/site-packages (from spacy>=2.2.0->en_core_web_sm==2.2.0) (0.1.0)\n",
      "Requirement already satisfied: numpy>=1.15.0 in /home/esa/anaconda3/lib/python3.6/site-packages (from spacy>=2.2.0->en_core_web_sm==2.2.0) (1.17.2)\n",
      "Requirement already satisfied: blis<0.5.0,>=0.4.0 in /home/esa/anaconda3/lib/python3.6/site-packages (from spacy>=2.2.0->en_core_web_sm==2.2.0) (0.4.1)\n",
      "Requirement already satisfied: cymem<2.1.0,>=2.0.2 in /home/esa/anaconda3/lib/python3.6/site-packages (from spacy>=2.2.0->en_core_web_sm==2.2.0) (2.0.2)\n",
      "Requirement already satisfied: wasabi<1.1.0,>=0.2.0 in /home/esa/anaconda3/lib/python3.6/site-packages (from spacy>=2.2.0->en_core_web_sm==2.2.0) (0.2.2)\n",
      "Requirement already satisfied: murmurhash<1.1.0,>=0.28.0 in /home/esa/anaconda3/lib/python3.6/site-packages (from spacy>=2.2.0->en_core_web_sm==2.2.0) (1.0.2)\n",
      "Requirement already satisfied: thinc<7.2.0,>=7.1.1 in /home/esa/anaconda3/lib/python3.6/site-packages (from spacy>=2.2.0->en_core_web_sm==2.2.0) (7.1.1)\n",
      "Requirement already satisfied: requests<3.0.0,>=2.13.0 in /home/esa/anaconda3/lib/python3.6/site-packages (from spacy>=2.2.0->en_core_web_sm==2.2.0) (2.22.0)\n",
      "Requirement already satisfied: tqdm<5.0.0,>=4.10.0 in /home/esa/anaconda3/lib/python3.6/site-packages (from thinc<7.2.0,>=7.1.1->spacy>=2.2.0->en_core_web_sm==2.2.0) (4.36.1)\n",
      "Requirement already satisfied: urllib3!=1.25.0,!=1.25.1,<1.26,>=1.21.1 in /home/esa/anaconda3/lib/python3.6/site-packages (from requests<3.0.0,>=2.13.0->spacy>=2.2.0->en_core_web_sm==2.2.0) (1.24.2)\n",
      "Requirement already satisfied: chardet<3.1.0,>=3.0.2 in /home/esa/anaconda3/lib/python3.6/site-packages (from requests<3.0.0,>=2.13.0->spacy>=2.2.0->en_core_web_sm==2.2.0) (3.0.4)\n",
      "Requirement already satisfied: idna<2.9,>=2.5 in /home/esa/anaconda3/lib/python3.6/site-packages (from requests<3.0.0,>=2.13.0->spacy>=2.2.0->en_core_web_sm==2.2.0) (2.8)\n",
      "Requirement already satisfied: certifi>=2017.4.17 in /home/esa/anaconda3/lib/python3.6/site-packages (from requests<3.0.0,>=2.13.0->spacy>=2.2.0->en_core_web_sm==2.2.0) (2019.9.11)\n",
      "\u001b[38;5;2m✔ Download and installation successful\u001b[0m\n",
      "You can now load the model via spacy.load('en_core_web_sm')\n"
     ]
    }
   ],
   "source": [
    "!python -m spacy download en_core_web_sm"
   ]
  },
  {
   "cell_type": "code",
   "execution_count": 0,
   "metadata": {
    "colab": {},
    "colab_type": "code",
    "id": "MpJ97aHSMyRG"
   },
   "outputs": [],
   "source": [
    "import spacy\n",
    "spacy_tok = spacy.load('en_core_web_sm')"
   ]
  },
  {
   "cell_type": "code",
   "execution_count": 0,
   "metadata": {
    "colab": {},
    "colab_type": "code",
    "id": "wUOsra4AM95E"
   },
   "outputs": [],
   "source": [
    "import string"
   ]
  },
  {
   "cell_type": "markdown",
   "metadata": {
    "colab_type": "text",
    "id": "ow7AOCO8yns-"
   },
   "source": [
    "#### FURTHER TEXT PREPROCESSING WITH SPACY(LEMMATIZATION AND TOKENIZATION)"
   ]
  },
  {
   "cell_type": "code",
   "execution_count": 0,
   "metadata": {
    "colab": {},
    "colab_type": "code",
    "id": "Rwugt07nXrnL"
   },
   "outputs": [],
   "source": [
    "# Define function to cleanup text by removing personal pronouns, word lemmatization, tokenization and removal of punctuations\n",
    "nlp = spacy.load('en_core_web_sm')\n",
    "punctuations = string.punctuation\n",
    "def cleanup_text(doc, logging=False):\n",
    "      doc = nlp(doc, disable=['parser', 'ner'])\n",
    "      tokens = [tok.lemma_.lower().strip() for tok in doc if tok.lemma_ != '-PRON-']\n",
    "      tokens = [tok for tok in tokens if tok not in punctuations]\n",
    "      tokens = ' '.join(tokens)\n",
    "      return tokens\n",
    "\n",
    "\n",
    "data_processed['merged_text'] = data_processed['merged_text'].apply(cleanup_text)\n"
   ]
  },
  {
   "cell_type": "code",
   "execution_count": 0,
   "metadata": {
    "colab": {},
    "colab_type": "code",
    "id": "TPhephJwg3hr"
   },
   "outputs": [],
   "source": [
    "#remove numbers as they are not informative\n",
    "data_processed['merged_text'] = data_processed['merged_text'].apply(lambda x: re.sub(r'[0-9]+', '', x))"
   ]
  },
  {
   "cell_type": "code",
   "execution_count": 47,
   "metadata": {
    "colab": {
     "base_uri": "https://localhost:8080/",
     "height": 1000
    },
    "colab_type": "code",
    "id": "vFIHooIchW6L",
    "outputId": "323c770f-d398-4a50-9e42-4f177729cd15"
   },
   "outputs": [
    {
     "data": {
      "text/plain": [
       "0        hello follow email send june th advise first_n...\n",
       "1        caution external email email originate outside...\n",
       "2        first_name grimmette phone phone_number respon...\n",
       "4        message originate outside unum use caution ope...\n",
       "10       caution external email email originate outside...\n",
       "14       message originate outside unum use caution ope...\n",
       "16       first_name first_name ssn ssn friday ezerendu ...\n",
       "17       caution external email email originate outside...\n",
       "18       brandon loper ssn hi team process employee ter...\n",
       "19       message originate outside unum use caution ope...\n",
       "21       good afternoon attach enrollment form process ...\n",
       "23       message originate outside unum use caution ope...\n",
       "28       unum evidence insurability send thursday janua...\n",
       "34       hello highlight day work first_name orduno tha...\n",
       "35       caution external email email originate outside...\n",
       "36       message originate outside unum use caution ope...\n",
       "37        hi ask unum process attach enrollment form te...\n",
       "38       message originate outside unum use caution ope...\n",
       "39       follow  termination jennison industry gp  date...\n",
       "41       message originate outside unum use caution ope...\n",
       "42        add first_name last_name ssn add first_name l...\n",
       "45       message originate outside unum use caution ope...\n",
       "48       message originate outside unum use caution ope...\n",
       "55       phone_number  last_name hound term first_name ...\n",
       "64       hi au assist thank first_name first_name mccar...\n",
       "65       message originate outside unum use caution ope...\n",
       "67       message originate outside unum use caution ope...\n",
       "72       message originate outside unum use caution ope...\n",
       "73       message originate outside unum use caution ope...\n",
       "76        first_name orcutt ssn cid cid paychex secure ...\n",
       "                               ...                        \n",
       "19958    original message askunumunumcom askunumunumcom...\n",
       "19966    first_name pass dental claim team do not know ...\n",
       "19967    message originate outside unum use caution ope...\n",
       "19976    provide update claim  wickchester last_name la...\n",
       "19978    kai burford ssn claim policy phone_number   be...\n",
       "19979    caution external email email originate outside...\n",
       "19980    turn cli tj solomon division company thank tha...\n",
       "19981    confirm follow individualsentitie date paperwo...\n",
       "19983    team producer account intend split commission ...\n",
       "19986    first_name moff corp moff associate phone phon...\n",
       "19991    send iphone begin forward message first_name s...\n",
       "19997    latonja first_name phone phone_number response...\n",
       "19998    policy policy number effective term date cole ...\n",
       "19999    service request initiate first_name last_name ...\n",
       "20004    caution external email email originate outside...\n",
       "20005    message originate outside unum use caution ope...\n",
       "20014    first_name hipe phone phone_number response re...\n",
       "20022    pol   new broker  broker  last_name office phi...\n",
       "20024    message originate outside unum use caution ope...\n",
       "20028    hi first_name ask member service team assist i...\n",
       "20030    message originate outside unum use caution ope...\n",
       "20032    good morning submit rer group effective  nee a...\n",
       "20033    policy policy number effective term date assur...\n",
       "20034    message originate outside unum use caution ope...\n",
       "20038    message originate outside unum use caution ope...\n",
       "20043    policy policy number effective term date dwk l...\n",
       "20055    message originate outside unum use caution ope...\n",
       "20071    hello make change account admin role follow fi...\n",
       "20072    message originate outside unum use caution ope...\n",
       "20074    process attach billing address change attach g...\n",
       "Name: merged_text, Length: 20079, dtype: object"
      ]
     },
     "execution_count": 47,
     "metadata": {
      "tags": []
     },
     "output_type": "execute_result"
    }
   ],
   "source": [
    "data_processed['merged_text']"
   ]
  },
  {
   "cell_type": "code",
   "execution_count": 48,
   "metadata": {
    "colab": {
     "base_uri": "https://localhost:8080/",
     "height": 34
    },
    "colab_type": "code",
    "id": "d5RQHzlwPL2d",
    "outputId": "9b820ac8-d910-42b5-bdd2-10f638bbfb44"
   },
   "outputs": [
    {
     "data": {
      "text/plain": [
       "(20079, 56054)"
      ]
     },
     "execution_count": 48,
     "metadata": {
      "tags": []
     },
     "output_type": "execute_result"
    }
   ],
   "source": [
    "# Model: Bag-of-words\n",
    "\n",
    "from sklearn.feature_extraction.text import TfidfVectorizer\n",
    "tfidf = TfidfVectorizer(sublinear_tf=True, min_df=5, norm='l2', encoding='latin-1', ngram_range=(1, 2), stop_words='english')\n",
    "features = tfidf.fit_transform(data_processed['merged_text']).toarray()\n",
    "labels = data_processed.category_id\n",
    "features.shape"
   ]
  },
  {
   "cell_type": "code",
   "execution_count": 0,
   "metadata": {
    "colab": {
     "base_uri": "https://localhost:8080/",
     "height": 1000
    },
    "colab_type": "code",
    "id": "6i8B5ek2PbLi",
    "outputId": "fb134a10-22b1-46d0-85a4-f17d2049759a"
   },
   "outputs": [
    {
     "name": "stdout",
     "output_type": "stream",
     "text": [
      "--> 'Billing - ACH Inquiry/Confirmation':\n",
      "  . Most Correlated Unigrams are :\n",
      ". remittance\n",
      ". payment\n",
      "  . Most Correlated Bigrams are :\n",
      ". remittance advice\n",
      ". attach remittance\n",
      "--> 'Forms and Copies - Booklet':\n",
      "  . Most Correlated Unigrams are :\n",
      ". census\n",
      ". recent\n",
      "  . Most Correlated Bigrams are :\n",
      ". send recent\n",
      ". recent invoice\n",
      "--> 'Forms and Copies - Contract':\n",
      "  . Most Correlated Unigrams are :\n",
      ". contract\n",
      ". rate\n",
      "  . Most Correlated Bigrams are :\n",
      ". contract rate\n",
      ". certificate coverage\n",
      "--> 'Forms and Copies - Enrollment':\n",
      "  . Most Correlated Unigrams are :\n",
      ". residence\n",
      ". situs\n",
      "  . Most Correlated Bigrams are :\n",
      ". customer policy\n",
      ". state residence\n",
      "--> 'Forms and Copies - Evidence of Insurability':\n",
      "  . Most Correlated Unigrams are :\n",
      ". aprylyamnitzbuchheitscom\n",
      ". card\n",
      "  . Most Correlated Bigrams are :\n",
      ". dental card\n",
      ". vision card\n",
      "--> 'Forms and Copies - Schedule A':\n",
      "  . Most Correlated Unigrams are :\n",
      ". wallet\n",
      ". eap\n",
      "  . Most Correlated Bigrams are :\n",
      ". provide schedule\n",
      ". wallet card\n",
      "--> 'Ongoing Employee Maintenance - Coding Change or Correction':\n",
      "  . Most Correlated Unigrams are :\n",
      ". belowin\n",
      ". applicant\n",
      "  . Most Correlated Bigrams are :\n",
      ". identify plan\n",
      ". admin action\n",
      "--> 'Ongoing Employee Maintenance - Coding Correction - Customer Error':\n",
      "  . Most Correlated Unigrams are :\n",
      ". damien\n",
      ". reinstate\n",
      "  . Most Correlated Bigrams are :\n",
      ". break coverage\n",
      ". comment enter\n",
      "--> 'Ongoing Employee Maintenance - Coding Correction - Internal Error':\n",
      "  . Most Correlated Unigrams are :\n",
      ". feed\n",
      ". edi\n",
      "  . Most Correlated Bigrams are :\n",
      ". connection file\n",
      ". edi team\n",
      "--> 'Ongoing Employee Maintenance - EOI Status':\n",
      "  . Most Correlated Unigrams are :\n",
      ". evidence\n",
      ". eoi\n",
      "  . Most Correlated Bigrams are :\n",
      ". subject action\n",
      ". evidence insurability\n",
      "--> 'Ongoing Employee Maintenance - Employee Coding':\n",
      "  . Most Correlated Unigrams are :\n",
      ". termination\n",
      ". terminate\n",
      "  . Most Correlated Bigrams are :\n",
      ". terminate first_name\n",
      ". termination date\n",
      "--> 'Ongoing Employee Maintenance - Enrollment Status':\n",
      "  . Most Correlated Unigrams are :\n",
      ". beacon\n",
      ". enrol\n",
      "  . Most Correlated Bigrams are :\n",
      ". beacon enrollment\n",
      ". enrol first_name\n",
      "--> 'Ongoing Employee Maintenance - Enrollment Submission':\n",
      "  . Most Correlated Unigrams are :\n",
      ". process\n",
      ". enrollment\n",
      "  . Most Correlated Bigrams are :\n",
      ". enrollment form\n",
      ". attach enrollment\n",
      "--> 'Others':\n",
      "  . Most Correlated Unigrams are :\n",
      ". access\n",
      ". claim\n",
      "  . Most Correlated Bigrams are :\n",
      ". number effective\n",
      ". effective term\n",
      "--> 'Plan Inquiry - Renewal Inquiry':\n",
      "  . Most Correlated Unigrams are :\n",
      ". age\n",
      ". renewal\n",
      "  . Most Correlated Bigrams are :\n",
      ". send renewal\n",
      ". renewal group\n",
      "--> 'Withdrawn':\n",
      "  . Most Correlated Unigrams are :\n",
      ". deliverytime\n",
      ". servertowermessagelabscom\n",
      "  . Most Correlated Bigrams are :\n",
      ". password click\n",
      ". message date\n"
     ]
    }
   ],
   "source": [
    "# Use 'sklearn.feature_selection.chi2' to find the terms that are the most correlated with each of the targets\n",
    "\n",
    "from sklearn.feature_selection import chi2\n",
    "import numpy as np\n",
    "N = 2\n",
    "for Target, category_id in sorted(category_to_id.items()):\n",
    "    features_chi2 = chi2(features, labels == category_id)\n",
    "    indices = np.argsort(features_chi2[0])\n",
    "    feature_names = np.array(tfidf.get_feature_names())[indices]\n",
    "    unigrams = [v for v in feature_names if len(v.split(' ')) == 1]\n",
    "    bigrams = [v for v in feature_names if len(v.split(' ')) == 2]\n",
    "    print(\"--> '{}':\".format(Target))\n",
    "    print(\"  . Most Correlated Unigrams are :\\n. {}\".format('\\n. '.join(unigrams[-N:])))\n",
    "    print(\"  . Most Correlated Bigrams are :\\n. {}\".format('\\n. '.join(bigrams[-N:])))"
   ]
  },
  {
   "cell_type": "markdown",
   "metadata": {
    "colab_type": "text",
    "id": "ZSdL8N4KzNZn"
   },
   "source": [
    "### TEXT TRANSFORMATION AND MODEL BUILDING"
   ]
  },
  {
   "cell_type": "code",
   "execution_count": 0,
   "metadata": {
    "colab": {},
    "colab_type": "code",
    "id": "1GUv8qrjZVXH"
   },
   "outputs": [],
   "source": [
    "from sklearn.model_selection import train_test_split\n",
    "from sklearn.feature_extraction.text import CountVectorizer\n",
    "from sklearn.feature_extraction.text import TfidfTransformer\n",
    "from sklearn.naive_bayes import MultinomialNB\n",
    "X_train, X_test, y_train, y_test = train_test_split(data_processed['merged_text'], data_processed['Target'], random_state = 0)\n",
    "count_vect = CountVectorizer()\n",
    "X_train_counts = count_vect.fit_transform(X_train)\n",
    "tfidf_transformer = TfidfTransformer()\n",
    "X_train_tfidf = tfidf_transformer.fit_transform(X_train_counts)\n",
    "clf = MultinomialNB().fit(X_train_tfidf, y_train)"
   ]
  },
  {
   "cell_type": "code",
   "execution_count": 50,
   "metadata": {
    "colab": {
     "base_uri": "https://localhost:8080/",
     "height": 34
    },
    "colab_type": "code",
    "id": "QneqKv3ah6tG",
    "outputId": "0e305898-28a9-4b1b-8018-94dc31fa864a"
   },
   "outputs": [
    {
     "name": "stdout",
     "output_type": "stream",
     "text": [
      "['Ongoing Employee Maintenance - Enrollment Submission']\n"
     ]
    }
   ],
   "source": [
    "print(clf.predict(count_vect.transform([\"enrollment request 565927 pychx 2165487caution\"])))"
   ]
  },
  {
   "cell_type": "markdown",
   "metadata": {
    "colab_type": "text",
    "id": "5VPQbP1_zUnp"
   },
   "source": [
    "## SVM, MULTINOMIAL NAIVE BAYES AND MAXIMUMENTROPY(LOGISTIC REGRESSION) MODELS AND PERFORMANCE ACCURACY"
   ]
  },
  {
   "cell_type": "code",
   "execution_count": 51,
   "metadata": {
    "colab": {
     "base_uri": "https://localhost:8080/",
     "height": 660
    },
    "colab_type": "code",
    "id": "FysFBKPLh_jB",
    "outputId": "ede8e439-c759-411b-d444-a8bdfe922f13"
   },
   "outputs": [
    {
     "name": "stderr",
     "output_type": "stream",
     "text": [
      "/usr/local/lib/python3.6/dist-packages/sklearn/linear_model/logistic.py:432: FutureWarning: Default solver will be changed to 'lbfgs' in 0.22. Specify a solver to silence this warning.\n",
      "  FutureWarning)\n",
      "/usr/local/lib/python3.6/dist-packages/sklearn/linear_model/logistic.py:469: FutureWarning: Default multi_class will be changed to 'auto' in 0.22. Specify the multi_class option to silence this warning.\n",
      "  \"this warning.\", FutureWarning)\n",
      "/usr/local/lib/python3.6/dist-packages/sklearn/linear_model/logistic.py:432: FutureWarning: Default solver will be changed to 'lbfgs' in 0.22. Specify a solver to silence this warning.\n",
      "  FutureWarning)\n",
      "/usr/local/lib/python3.6/dist-packages/sklearn/linear_model/logistic.py:469: FutureWarning: Default multi_class will be changed to 'auto' in 0.22. Specify the multi_class option to silence this warning.\n",
      "  \"this warning.\", FutureWarning)\n",
      "/usr/local/lib/python3.6/dist-packages/sklearn/linear_model/logistic.py:432: FutureWarning: Default solver will be changed to 'lbfgs' in 0.22. Specify a solver to silence this warning.\n",
      "  FutureWarning)\n",
      "/usr/local/lib/python3.6/dist-packages/sklearn/linear_model/logistic.py:469: FutureWarning: Default multi_class will be changed to 'auto' in 0.22. Specify the multi_class option to silence this warning.\n",
      "  \"this warning.\", FutureWarning)\n",
      "/usr/local/lib/python3.6/dist-packages/sklearn/linear_model/logistic.py:432: FutureWarning: Default solver will be changed to 'lbfgs' in 0.22. Specify a solver to silence this warning.\n",
      "  FutureWarning)\n",
      "/usr/local/lib/python3.6/dist-packages/sklearn/linear_model/logistic.py:469: FutureWarning: Default multi_class will be changed to 'auto' in 0.22. Specify the multi_class option to silence this warning.\n",
      "  \"this warning.\", FutureWarning)\n",
      "/usr/local/lib/python3.6/dist-packages/sklearn/linear_model/logistic.py:432: FutureWarning: Default solver will be changed to 'lbfgs' in 0.22. Specify a solver to silence this warning.\n",
      "  FutureWarning)\n",
      "/usr/local/lib/python3.6/dist-packages/sklearn/linear_model/logistic.py:469: FutureWarning: Default multi_class will be changed to 'auto' in 0.22. Specify the multi_class option to silence this warning.\n",
      "  \"this warning.\", FutureWarning)\n"
     ]
    },
    {
     "data": {
      "image/png": "[encoded data removed]",
      "text/plain": [
       "<Figure size 432x288 with 1 Axes>"
      ]
     },
     "metadata": {
      "tags": []
     },
     "output_type": "display_data"
    }
   ],
   "source": [
    "from sklearn.svm import LinearSVC\n",
    "from sklearn.model_selection import cross_val_score\n",
    "models = [\n",
    "    \n",
    "    LinearSVC(),\n",
    "    MultinomialNB(),\n",
    "    MaximumEntropy()\n",
    "]\n",
    "CV = 5 # We can use any cross validation number, but 5 is usually a standard it reduces over-fitting while it saves time\n",
    "cv_df = pd.DataFrame(index=range(CV * len(models)))\n",
    "entries = []\n",
    "for model in models:\n",
    "    model_name = model.__class__.__name__\n",
    "    accuracies = cross_val_score(model, features, labels, scoring='accuracy', cv=CV)\n",
    "    for fold_idx, accuracy in enumerate(accuracies):\n",
    "         entries.append((model_name, fold_idx, accuracy))\n",
    "cv_df = pd.DataFrame(entries, columns=['model_name', 'fold_idx', 'accuracy'])\n",
    "sns.boxplot(x='model_name', y='accuracy', data=cv_df)\n",
    "sns.stripplot(x='model_name', y='accuracy', data=cv_df, \n",
    "              size=8, jitter=True, edgecolor=\"gray\", linewidth=2)\n",
    "plt.show()"
   ]
  },
  {
   "cell_type": "code",
   "execution_count": 52,
   "metadata": {
    "colab": {
     "base_uri": "https://localhost:8080/",
     "height": 105
    },
    "colab_type": "code",
    "id": "wnG35EnuiViU",
    "outputId": "2e750b28-7931-4c9f-dfcf-3ef38184289e"
   },
   "outputs": [
    {
     "data": {
      "text/plain": [
       "model_name\n",
       "LinearSVC             0.613878\n",
       "LogisticRegression    0.583744\n",
       "MultinomialNB         0.407540\n",
       "Name: accuracy, dtype: float64"
      ]
     },
     "execution_count": 52,
     "metadata": {
      "tags": []
     },
     "output_type": "execute_result"
    }
   ],
   "source": [
    "cv_df.groupby('model_name').accuracy.mean()"
   ]
  },
  {
   "cell_type": "markdown",
   "metadata": {
    "colab_type": "text",
    "id": "tCEb2VRzzptG"
   },
   "source": [
    "#### SVM MODEL WITH PERFORMANCE VISUALIZATION"
   ]
  },
  {
   "cell_type": "code",
   "execution_count": 53,
   "metadata": {
    "colab": {
     "base_uri": "https://localhost:8080/",
     "height": 946
    },
    "colab_type": "code",
    "id": "1DpAt0Q5lpf9",
    "outputId": "653205f3-19d3-443b-f31d-20d7a94fe15d"
   },
   "outputs": [
    {
     "data": {
      "image/png": "[encoded data removed]",
      "text/plain": [
       "<Figure size 720x720 with 2 Axes>"
      ]
     },
     "metadata": {
      "tags": []
     },
     "output_type": "display_data"
    }
   ],
   "source": [
    "model = LinearSVC()\n",
    "X_train, X_test, y_train, y_test, indices_train, indices_test = train_test_split(features, labels, data_processed.index, test_size=0.33, random_state=0)\n",
    "model.fit(X_train, y_train)\n",
    "y_pred = model.predict(X_test)\n",
    "from sklearn.metrics import confusion_matrix\n",
    "conf_mat = confusion_matrix(y_test, y_pred)\n",
    "fig, ax = plt.subplots(figsize=(10,10))\n",
    "sns.heatmap(conf_mat, annot=True, fmt='d',\n",
    "            xticklabels=category_id_df.Target.values, yticklabels=category_id_df.Target.values)\n",
    "plt.ylabel('Actual')\n",
    "plt.xlabel('Predicted')\n",
    "plt.show()"
   ]
  },
  {
   "cell_type": "code",
   "execution_count": 58,
   "metadata": {
    "colab": {
     "base_uri": "https://localhost:8080/",
     "height": 425
    },
    "colab_type": "code",
    "id": "Cg8ekt-v4Elw",
    "outputId": "cabd2677-8b20-4e3d-f8c6-3fe633d30e47"
   },
   "outputs": [
    {
     "name": "stdout",
     "output_type": "stream",
     "text": [
      "              precision    recall  f1-score   support\n",
      "\n",
      "           0       0.35      0.24      0.29       467\n",
      "           1       0.64      0.77      0.70      1099\n",
      "           2       0.46      0.24      0.31       171\n",
      "           3       0.65      0.73      0.69      1144\n",
      "           4       0.15      0.03      0.05        71\n",
      "           5       0.54      0.40      0.46       142\n",
      "           6       0.60      0.21      0.32        28\n",
      "           7       0.53      0.50      0.51       568\n",
      "           8       0.58      0.61      0.59       584\n",
      "           9       0.39      0.23      0.29       191\n",
      "          10       0.73      0.27      0.39        82\n",
      "          11       0.64      0.16      0.25        44\n",
      "          12       0.66      0.40      0.50        63\n",
      "          13       0.75      0.64      0.69       421\n",
      "          14       0.78      0.32      0.46        56\n",
      "          15       0.69      0.80      0.74      1496\n",
      "\n",
      "    accuracy                           0.62      6627\n",
      "   macro avg       0.57      0.41      0.45      6627\n",
      "weighted avg       0.61      0.62      0.61      6627\n",
      "\n"
     ]
    }
   ],
   "source": [
    "print(classification_report(y_test, y_pred))"
   ]
  },
  {
   "cell_type": "markdown",
   "metadata": {
    "colab_type": "text",
    "id": "CC1wZZB5z1Dt"
   },
   "source": [
    "## MaximumEntropy is the same as LogisticRegression(https://www.quora.com/What-is-the-relationship-between-Log-Linear-model-MaxEnt-model-and-Logistic-Regression)"
   ]
  }
 ],
 "metadata": {
  "accelerator": "GPU",
  "colab": {
   "machine_shape": "hm",
   "name": "EMAIL_CLASSIFICATION.ipynb",
   "provenance": []
  },
  "kernelspec": {
   "display_name": "Python 2",
   "language": "python",
   "name": "python2"
  },
  "language_info": {
   "codemirror_mode": {
    "name": "ipython",
    "version": 2
   },
   "file_extension": ".py",
   "mimetype": "text/x-python",
   "name": "python",
   "nbconvert_exporter": "python",
   "pygments_lexer": "ipython2",
   "version": "2.7.15"
  }
 },
 "nbformat": 4,
 "nbformat_minor": 1
}
